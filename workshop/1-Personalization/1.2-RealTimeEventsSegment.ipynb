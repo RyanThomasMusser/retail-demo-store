{
 "metadata": {
  "language_info": {
   "codemirror_mode": {
    "name": "ipython",
    "version": 3
   },
   "file_extension": ".py",
   "mimetype": "text/x-python",
   "name": "python",
   "nbconvert_exporter": "python",
   "pygments_lexer": "ipython3",
   "version": 3
  },
  "orig_nbformat": 2
 },
 "nbformat": 4,
 "nbformat_minor": 2,
 "cells": [
  {
   "source": [
    "# Segment Real Time Data + Personalize\n",
    "\n",
    "In this module you are going to be adding the ability to maintain a real-time dataset that represents the latest user behavior for users of the Retail Demo Store.  You will then connect that dataset to the Personalize dataset groups that you built in the first part of the workshop. This will enable your Personalize models to be kept up to date with the latest events your users are performing.\n",
    "\n",
    "This workshop will use the Segment analytics.js library to collect real-time data from the Retail Demo Store, and then feed that event data into the Segment platform, where it can be routed directly to a Personalize Tracker, and then used to maintain the latest behavioral data for your personalization user-item interaction data.\n",
    "\n",
    "Recommended Time: 30 Minutes\n",
    "\n",
    "## Prerequisites\n",
    "\n",
    "In order to complete this workshop, you will need to complete the 1.1-Personalize workbook in this directory.  You will also need a Segment workspace.  If you are doing this workshop as part of a live workshop event, ask your moderator how to set up a Segment workspace.  If you are running this workshop on your own, you can *click here* to create a Segment account.  We do not recommend using your production Segment workspace for this workshop.\n",
    "\n",
    "## Segment Platform Overview\n",
    "Segment is a customer data platform (CDP) that helps you collect, clean, and control your customer data. Segment provides several types of Sources which you can use to collect your data, and which you can choose from based on the needs of your app or site. For websites, you can use a javascript library to collect data. If you have a mobile app, you can embed one of Segment’s Mobile SDKs, and if you’d like to create messages directly on a server (if you have, for example a dedicated .NET server that processes payments), Segment has several server-based libraries that you can embed directly into your backend code. With Segment, you can also use cloud-sources to import data about your app or site from other tools like Zendesk or Salesforce, to enrich the data sent through Segment. By using Segment to decouple data collection from data use, you can create a centralized data supply chain based on organized and modular data.\n",
    "\n",
    "![Segment Overview](images/segment/segment_overview.png)\n",
    "\n",
    "## Segment and Retail Demo Store Architecture\n",
    "\n",
    "[Architecture image goes here]\n"
   ],
   "cell_type": "markdown",
   "metadata": {}
  }
 ]
}